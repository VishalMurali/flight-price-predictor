{
 "cells": [
  {
   "cell_type": "code",
   "execution_count": 1,
   "metadata": {},
   "outputs": [],
   "source": [
    "import warnings\n",
    "import pandas as pd\n",
    "from sklearn.model_selection import train_test_split\n",
    "from sklearn.utils import shuffle\n",
    "from sklearn.preprocessing import StandardScaler\n",
    "from time import time\n",
    "from sklearn.neighbors import KNeighborsRegressor\n",
    "from time import time\n",
    "from sklearn import metrics\n",
    "import numpy as np\n",
    "from sklearn.ensemble import GradientBoostingRegressor\n",
    "from sklearn.linear_model import LinearRegression\n",
    "from sklearn.ensemble import RandomForestRegressor\n",
    "from sklearn.ensemble import ExtraTreesRegressor\n",
    "from scipy.interpolate import spline\n",
    "from sklearn.impute import SimpleImputer\n",
    "from collections import Counter \n",
    "from datetime import datetime\n",
    "import matplotlib.pyplot as plt\n",
    "warnings.filterwarnings('ignore')"
   ]
  },
  {
   "cell_type": "code",
   "execution_count": 3,
   "metadata": {},
   "outputs": [],
   "source": [
    "data = pd.read_csv('boscun-longitudinal.csv')"
   ]
  },
  {
   "cell_type": "code",
   "execution_count": 4,
   "metadata": {},
   "outputs": [
    {
     "data": {
      "text/html": [
       "<div>\n",
       "<style scoped>\n",
       "    .dataframe tbody tr th:only-of-type {\n",
       "        vertical-align: middle;\n",
       "    }\n",
       "\n",
       "    .dataframe tbody tr th {\n",
       "        vertical-align: top;\n",
       "    }\n",
       "\n",
       "    .dataframe thead th {\n",
       "        text-align: right;\n",
       "    }\n",
       "</style>\n",
       "<table border=\"1\" class=\"dataframe\">\n",
       "  <thead>\n",
       "    <tr style=\"text-align: right;\">\n",
       "      <th></th>\n",
       "      <th>search_id</th>\n",
       "      <th>trip_index</th>\n",
       "      <th>received_date</th>\n",
       "      <th>received_ms</th>\n",
       "      <th>origin</th>\n",
       "      <th>destination</th>\n",
       "      <th>total_usd</th>\n",
       "      <th>pax_type</th>\n",
       "      <th>refundable</th>\n",
       "      <th>validating_carrier</th>\n",
       "      <th>...</th>\n",
       "      <th>returning_duration</th>\n",
       "      <th>returning_stops</th>\n",
       "      <th>major_carrier_id</th>\n",
       "      <th>total_stops</th>\n",
       "      <th>advance</th>\n",
       "      <th>length_of_stay</th>\n",
       "      <th>includes_saturday_night_stay</th>\n",
       "      <th>available_seats</th>\n",
       "      <th>lowest_cabin_class</th>\n",
       "      <th>highest_cabin_class</th>\n",
       "    </tr>\n",
       "  </thead>\n",
       "  <tbody>\n",
       "    <tr>\n",
       "      <th>0</th>\n",
       "      <td>f079363a-b281-3476-b13e-d96ba6a8ad8a</td>\n",
       "      <td>11</td>\n",
       "      <td>2016-04-21</td>\n",
       "      <td>1461268013357</td>\n",
       "      <td>BOS</td>\n",
       "      <td>CUN</td>\n",
       "      <td>397.0</td>\n",
       "      <td>ADT</td>\n",
       "      <td>NaN</td>\n",
       "      <td>AM</td>\n",
       "      <td>...</td>\n",
       "      <td>615</td>\n",
       "      <td>1</td>\n",
       "      <td>AM</td>\n",
       "      <td>2</td>\n",
       "      <td>42</td>\n",
       "      <td>4</td>\n",
       "      <td>True</td>\n",
       "      <td>8</td>\n",
       "      <td>E</td>\n",
       "      <td>E</td>\n",
       "    </tr>\n",
       "    <tr>\n",
       "      <th>1</th>\n",
       "      <td>f079363a-b281-3476-b13e-d96ba6a8ad8a</td>\n",
       "      <td>15</td>\n",
       "      <td>2016-04-21</td>\n",
       "      <td>1461268013357</td>\n",
       "      <td>BOS</td>\n",
       "      <td>CUN</td>\n",
       "      <td>412.8</td>\n",
       "      <td>ADT</td>\n",
       "      <td>NaN</td>\n",
       "      <td>UA</td>\n",
       "      <td>...</td>\n",
       "      <td>492</td>\n",
       "      <td>1</td>\n",
       "      <td>UA</td>\n",
       "      <td>2</td>\n",
       "      <td>42</td>\n",
       "      <td>4</td>\n",
       "      <td>True</td>\n",
       "      <td>8</td>\n",
       "      <td>E</td>\n",
       "      <td>E</td>\n",
       "    </tr>\n",
       "    <tr>\n",
       "      <th>2</th>\n",
       "      <td>f079363a-b281-3476-b13e-d96ba6a8ad8a</td>\n",
       "      <td>17</td>\n",
       "      <td>2016-04-21</td>\n",
       "      <td>1461268013357</td>\n",
       "      <td>BOS</td>\n",
       "      <td>CUN</td>\n",
       "      <td>412.8</td>\n",
       "      <td>ADT</td>\n",
       "      <td>NaN</td>\n",
       "      <td>UA</td>\n",
       "      <td>...</td>\n",
       "      <td>526</td>\n",
       "      <td>1</td>\n",
       "      <td>UA</td>\n",
       "      <td>2</td>\n",
       "      <td>42</td>\n",
       "      <td>4</td>\n",
       "      <td>True</td>\n",
       "      <td>8</td>\n",
       "      <td>E</td>\n",
       "      <td>E</td>\n",
       "    </tr>\n",
       "    <tr>\n",
       "      <th>3</th>\n",
       "      <td>f079363a-b281-3476-b13e-d96ba6a8ad8a</td>\n",
       "      <td>19</td>\n",
       "      <td>2016-04-21</td>\n",
       "      <td>1461268013357</td>\n",
       "      <td>BOS</td>\n",
       "      <td>CUN</td>\n",
       "      <td>412.8</td>\n",
       "      <td>ADT</td>\n",
       "      <td>NaN</td>\n",
       "      <td>UA</td>\n",
       "      <td>...</td>\n",
       "      <td>405</td>\n",
       "      <td>1</td>\n",
       "      <td>UA</td>\n",
       "      <td>2</td>\n",
       "      <td>42</td>\n",
       "      <td>4</td>\n",
       "      <td>True</td>\n",
       "      <td>8</td>\n",
       "      <td>E</td>\n",
       "      <td>E</td>\n",
       "    </tr>\n",
       "    <tr>\n",
       "      <th>4</th>\n",
       "      <td>f079363a-b281-3476-b13e-d96ba6a8ad8a</td>\n",
       "      <td>29</td>\n",
       "      <td>2016-04-21</td>\n",
       "      <td>1461268013357</td>\n",
       "      <td>BOS</td>\n",
       "      <td>CUN</td>\n",
       "      <td>412.8</td>\n",
       "      <td>ADT</td>\n",
       "      <td>NaN</td>\n",
       "      <td>UA</td>\n",
       "      <td>...</td>\n",
       "      <td>526</td>\n",
       "      <td>1</td>\n",
       "      <td>UA</td>\n",
       "      <td>2</td>\n",
       "      <td>42</td>\n",
       "      <td>4</td>\n",
       "      <td>True</td>\n",
       "      <td>9</td>\n",
       "      <td>E</td>\n",
       "      <td>E</td>\n",
       "    </tr>\n",
       "  </tbody>\n",
       "</table>\n",
       "<p>5 rows × 26 columns</p>\n",
       "</div>"
      ],
      "text/plain": [
       "                              search_id  trip_index received_date  \\\n",
       "0  f079363a-b281-3476-b13e-d96ba6a8ad8a          11    2016-04-21   \n",
       "1  f079363a-b281-3476-b13e-d96ba6a8ad8a          15    2016-04-21   \n",
       "2  f079363a-b281-3476-b13e-d96ba6a8ad8a          17    2016-04-21   \n",
       "3  f079363a-b281-3476-b13e-d96ba6a8ad8a          19    2016-04-21   \n",
       "4  f079363a-b281-3476-b13e-d96ba6a8ad8a          29    2016-04-21   \n",
       "\n",
       "     received_ms origin destination  total_usd pax_type  refundable  \\\n",
       "0  1461268013357    BOS         CUN      397.0      ADT         NaN   \n",
       "1  1461268013357    BOS         CUN      412.8      ADT         NaN   \n",
       "2  1461268013357    BOS         CUN      412.8      ADT         NaN   \n",
       "3  1461268013357    BOS         CUN      412.8      ADT         NaN   \n",
       "4  1461268013357    BOS         CUN      412.8      ADT         NaN   \n",
       "\n",
       "  validating_carrier  ... returning_duration  returning_stops  \\\n",
       "0                 AM  ...                615                1   \n",
       "1                 UA  ...                492                1   \n",
       "2                 UA  ...                526                1   \n",
       "3                 UA  ...                405                1   \n",
       "4                 UA  ...                526                1   \n",
       "\n",
       "   major_carrier_id  total_stops advance  length_of_stay  \\\n",
       "0                AM            2      42               4   \n",
       "1                UA            2      42               4   \n",
       "2                UA            2      42               4   \n",
       "3                UA            2      42               4   \n",
       "4                UA            2      42               4   \n",
       "\n",
       "   includes_saturday_night_stay  available_seats lowest_cabin_class  \\\n",
       "0                          True                8                  E   \n",
       "1                          True                8                  E   \n",
       "2                          True                8                  E   \n",
       "3                          True                8                  E   \n",
       "4                          True                9                  E   \n",
       "\n",
       "   highest_cabin_class  \n",
       "0                    E  \n",
       "1                    E  \n",
       "2                    E  \n",
       "3                    E  \n",
       "4                    E  \n",
       "\n",
       "[5 rows x 26 columns]"
      ]
     },
     "execution_count": 4,
     "metadata": {},
     "output_type": "execute_result"
    }
   ],
   "source": [
    "data.head()"
   ]
  },
  {
   "cell_type": "code",
   "execution_count": 5,
   "metadata": {},
   "outputs": [
    {
     "data": {
      "text/plain": [
       "388"
      ]
     },
     "execution_count": 5,
     "metadata": {},
     "output_type": "execute_result"
    }
   ],
   "source": [
    "len(list(set(data['trip_index'])))"
   ]
  },
  {
   "cell_type": "markdown",
   "metadata": {},
   "source": [
    "#### There are 388 unique trip indices in the dataset"
   ]
  },
  {
   "cell_type": "code",
   "execution_count": 6,
   "metadata": {},
   "outputs": [
    {
     "data": {
      "text/plain": [
       "(3009408, 26)"
      ]
     },
     "execution_count": 6,
     "metadata": {},
     "output_type": "execute_result"
    }
   ],
   "source": [
    "data.shape"
   ]
  },
  {
   "cell_type": "code",
   "execution_count": 7,
   "metadata": {},
   "outputs": [],
   "source": [
    "# Shuffling the data so that same departure and return dates don't get clustered together\n",
    "\n",
    "data = shuffle(data)"
   ]
  },
  {
   "cell_type": "code",
   "execution_count": 8,
   "metadata": {},
   "outputs": [],
   "source": [
    "training_set = data.head(1500000)\n",
    "held_out_set = data.iloc[1500000:]"
   ]
  },
  {
   "cell_type": "code",
   "execution_count": 9,
   "metadata": {},
   "outputs": [
    {
     "data": {
      "text/plain": [
       "(1500000, 26)"
      ]
     },
     "execution_count": 9,
     "metadata": {},
     "output_type": "execute_result"
    }
   ],
   "source": [
    "training_set.shape"
   ]
  },
  {
   "cell_type": "code",
   "execution_count": 10,
   "metadata": {},
   "outputs": [
    {
     "data": {
      "text/plain": [
       "(1509408, 26)"
      ]
     },
     "execution_count": 10,
     "metadata": {},
     "output_type": "execute_result"
    }
   ],
   "source": [
    "held_out_set.shape"
   ]
  },
  {
   "cell_type": "markdown",
   "metadata": {},
   "source": [
    "Hopper Quant Analyst Exercise\n",
    "===\n",
    "\n",
    "Background\n",
    "---\n",
    "\n",
    "Hopper receives several billion priced air itineraries every day, in near real-time.\n",
    "Each trip is part of a bundle of trips indicated by a search identifier.\n",
    "Usually a bundle of trips is a set of alternative flights resulting from\n",
    "a consumer flight search at an online travel agency (OTA).\n",
    "For example, a user might search for flights from BOS to JFK, perhaps including nearby airports,\n",
    "with particular (possibly flexible) departure and return dates.\n",
    "The search returns many possible priced trip options, which forms a bundle of trips.\n",
    "Hopper doesn't receive any information about whether a trip was purchased,\n",
    "what the original query was, or any user-identifiable information.\n",
    "\n",
    "Files\n",
    "--\n",
    "\n",
    " - README.md: this file\n",
    " - boscun-longitudinal.csv.gz, a gzipped CSV file with about 3M trip records collected for a particular route\n",
    " - metadata for the CSV is provided below\n",
    " \n",
    "Goal\n",
    "---\n",
    "\n",
    "This exercise includes a small sample of all the searches we saw for round-trip flights from Boston to Cancun\n",
    "over a period of about 18 months, with a small subset of potentially interesting features for each trip.\n",
    "Imagine that a Hopper user wants to travel this route on particular departure and return dates, \n",
    "and checks the price on some earlier date.  \n",
    "Illustrate how you'd use a dataset like this to advise the user at that time whether they should buy the ticket\n",
    "or wait for a better price.\n",
    "\n",
    "We're not expecting a production-quality solution, and are more interested in your approach and understanding of the issues involved.  Please feel free to use whatever tools you like, \n",
    "and provide a short discussion (max 500 words) outlining your findings, methodology,\n",
    "and any key remaining issues you'd want to tackle in production.\n",
    "\n",
    "Metadata\n",
    "---\n",
    "\n",
    "- search_id: the bundle identifer \n",
    "- trip_index: the index of the trip within a bundle\n",
    "- received_date: date the trip was received at Hopper\n",
    "- received_ms: epoch milliseconds trip was received\n",
    "- origin: origin airport\n",
    "- destination: destination airport\n",
    "- total_usd: total fare including taxes and fees\n",
    "- pax_type: passenger type quoted\n",
    "- refundable: refundable fare indicator\n",
    "- validating_carrier: airline selling the ticket\n",
    "- departure_odate: departure date in origin TZ\n",
    "- departure_ms: epoch milliseconds of departure\n",
    "- outgoing_duration: total in minutes \n",
    "- outgoing_stops: number of stops on outbound trip\n",
    "- return_odate: return date in destination TZ\n",
    "- return_ms: epoch millis of return time\n",
    "- returning_duration: total in minutes\n",
    "- returning_stops: number of stops on return trip\n",
    "- major_carrier_id: airline delivering majority of flight time\n",
    "- total_stops: total stops for round-trip\n",
    "- advance: days search before departure\n",
    "- length_of_stay: nights between departure and return\n",
    "- includes_saturday_night_stay: indicator for saturday stayover\n",
    "- available_seats: quoted availability at search time\n",
    "- lowest_cabin_class: lowest cabin class over all flights\n",
    "- highest_cabin_class: highest cabin class over all flights\n",
    "\n"
   ]
  },
  {
   "cell_type": "markdown",
   "metadata": {},
   "source": [
    "## Problem definition: \n",
    "Given origin and destination, and flight dates, determine whether the flight ticket prices are reasonable."
   ]
  },
  {
   "cell_type": "markdown",
   "metadata": {},
   "source": [
    "Let us build a regression model to predict the price of a ticket"
   ]
  },
  {
   "cell_type": "markdown",
   "metadata": {},
   "source": [
    "### Data preparation: Preprocessing, Feature selection and Feature Engineering"
   ]
  },
  {
   "cell_type": "code",
   "execution_count": 11,
   "metadata": {},
   "outputs": [],
   "source": [
    "\n",
    "\n",
    "# Features dropped: 'search_id', 'origin', 'destination', 'received_ms', 'return_ms', 'pax_type', 'lowest_cabin_class',\n",
    " #'highest_cabin_class', 'available_seats'\n",
    "\n",
    "kept_features = ['search_id',\n",
    "'trip_index',\n",
    " 'received_date',\n",
    " 'total_usd',\n",
    " 'validating_carrier',\n",
    " 'departure_odate',\n",
    " 'outgoing_duration',\n",
    " 'outgoing_stops',\n",
    " 'return_odate',\n",
    " 'returning_duration',\n",
    " 'returning_stops',\n",
    " 'major_carrier_id',\n",
    " 'total_stops',\n",
    " 'advance',\n",
    " 'length_of_stay',\n",
    " 'includes_saturday_night_stay',\n",
    " 'available_seats',\n",
    " 'departure_day', \n",
    " 'departure_week',\n",
    "'departure_month',\n",
    "'return_day', \n",
    "'return_week', \n",
    "'return_month']\n",
    "\n",
    "categorical_features = ['validating_carrier', 'major_carrier_id', \n",
    "                        'includes_saturday_night_stay', \n",
    "                       'departure_day', 'departure_week', 'departure_month',\n",
    "                       'return_day', 'return_week', 'return_month']\n",
    "continuous_features = ['outgoing_duration', 'outgoing_stops', 'returning_duration', 'returning_stops',\n",
    "                       'advance' ,\n",
    "                       'length_of_stay', \n",
    "                       ]\n",
    "\n",
    "def preprocess_data(data, features, categorical_features, continuous_features):\n",
    "    \n",
    "    processed_data = data\n",
    "    \n",
    "    # Processing departure dates\n",
    "    processed_data[\"departure_day\"] = pd.to_datetime(data[\"departure_odate\"], format = '%Y/%m/%d').dt.day_name()\n",
    "    processed_data[\"departure_month\"] = pd.to_datetime(data[\"departure_odate\"], format = '%Y/%m/%d').dt.month_name()\n",
    "    processed_data[\"departure_week\"] = pd.to_datetime(data[\"departure_odate\"], format = '%Y/%m/%d').dt.week\n",
    "\n",
    "    # Processing return dates\n",
    "    processed_data[\"return_day\"] = pd.to_datetime(data[\"return_odate\"], format = '%Y/%m/%d').dt.day_name()\n",
    "    processed_data[\"return_month\"] = pd.to_datetime(data[\"return_odate\"], format = '%Y/%m/%d').dt.month_name()\n",
    "    processed_data[\"return_week\"] = pd.to_datetime(data[\"return_odate\"], format = '%Y/%m/%d').dt.week\n",
    "    \n",
    "    # Keeping only selected features\n",
    "    processed_data = processed_data[features]\n",
    "    X = processed_data\n",
    "    \n",
    "    # Creating new Variable called Xt for transformed data\n",
    "    Xt = X\n",
    "    \n",
    "    # Make sure continuous features are actually continuous\n",
    "    Xt[continuous_features] = X[continuous_features].astype(float)\n",
    "    \n",
    "    # One hot encoding the categorical features\n",
    "    Xt = pd.concat([Xt[continuous_features], pd.get_dummies(X[categorical_features])], axis=1)\n",
    "    \n",
    "    # Scaling the continuous features\n",
    "    \n",
    "    scaler = StandardScaler()\n",
    "    Xt[continuous_features] = scaler.fit_transform(Xt[continuous_features])\n",
    "    y = data['total_usd']\n",
    "    \n",
    "    return Xt, y"
   ]
  },
  {
   "cell_type": "code",
   "execution_count": 12,
   "metadata": {
    "scrolled": true
   },
   "outputs": [
    {
     "data": {
      "text/html": [
       "<div>\n",
       "<style scoped>\n",
       "    .dataframe tbody tr th:only-of-type {\n",
       "        vertical-align: middle;\n",
       "    }\n",
       "\n",
       "    .dataframe tbody tr th {\n",
       "        vertical-align: top;\n",
       "    }\n",
       "\n",
       "    .dataframe thead th {\n",
       "        text-align: right;\n",
       "    }\n",
       "</style>\n",
       "<table border=\"1\" class=\"dataframe\">\n",
       "  <thead>\n",
       "    <tr style=\"text-align: right;\">\n",
       "      <th></th>\n",
       "      <th>outgoing_duration</th>\n",
       "      <th>outgoing_stops</th>\n",
       "      <th>returning_duration</th>\n",
       "      <th>returning_stops</th>\n",
       "      <th>advance</th>\n",
       "      <th>length_of_stay</th>\n",
       "      <th>includes_saturday_night_stay</th>\n",
       "      <th>departure_week</th>\n",
       "      <th>return_week</th>\n",
       "      <th>validating_carrier_AA</th>\n",
       "      <th>...</th>\n",
       "      <th>return_month_December</th>\n",
       "      <th>return_month_February</th>\n",
       "      <th>return_month_January</th>\n",
       "      <th>return_month_July</th>\n",
       "      <th>return_month_June</th>\n",
       "      <th>return_month_March</th>\n",
       "      <th>return_month_May</th>\n",
       "      <th>return_month_November</th>\n",
       "      <th>return_month_October</th>\n",
       "      <th>return_month_September</th>\n",
       "    </tr>\n",
       "  </thead>\n",
       "  <tbody>\n",
       "    <tr>\n",
       "      <th>994517</th>\n",
       "      <td>0.037111</td>\n",
       "      <td>-0.304412</td>\n",
       "      <td>-0.705620</td>\n",
       "      <td>-0.193813</td>\n",
       "      <td>-0.496580</td>\n",
       "      <td>-0.250765</td>\n",
       "      <td>True</td>\n",
       "      <td>40</td>\n",
       "      <td>41</td>\n",
       "      <td>0</td>\n",
       "      <td>...</td>\n",
       "      <td>0</td>\n",
       "      <td>0</td>\n",
       "      <td>0</td>\n",
       "      <td>0</td>\n",
       "      <td>0</td>\n",
       "      <td>0</td>\n",
       "      <td>0</td>\n",
       "      <td>0</td>\n",
       "      <td>1</td>\n",
       "      <td>0</td>\n",
       "    </tr>\n",
       "    <tr>\n",
       "      <th>161919</th>\n",
       "      <td>2.138147</td>\n",
       "      <td>-0.304412</td>\n",
       "      <td>0.609800</td>\n",
       "      <td>2.652447</td>\n",
       "      <td>-0.152965</td>\n",
       "      <td>-0.250765</td>\n",
       "      <td>False</td>\n",
       "      <td>7</td>\n",
       "      <td>8</td>\n",
       "      <td>0</td>\n",
       "      <td>...</td>\n",
       "      <td>0</td>\n",
       "      <td>1</td>\n",
       "      <td>0</td>\n",
       "      <td>0</td>\n",
       "      <td>0</td>\n",
       "      <td>0</td>\n",
       "      <td>0</td>\n",
       "      <td>0</td>\n",
       "      <td>0</td>\n",
       "      <td>0</td>\n",
       "    </tr>\n",
       "    <tr>\n",
       "      <th>1777727</th>\n",
       "      <td>2.288758</td>\n",
       "      <td>-0.304412</td>\n",
       "      <td>1.156886</td>\n",
       "      <td>-0.193813</td>\n",
       "      <td>-0.466700</td>\n",
       "      <td>-0.427612</td>\n",
       "      <td>True</td>\n",
       "      <td>47</td>\n",
       "      <td>48</td>\n",
       "      <td>0</td>\n",
       "      <td>...</td>\n",
       "      <td>0</td>\n",
       "      <td>0</td>\n",
       "      <td>0</td>\n",
       "      <td>0</td>\n",
       "      <td>0</td>\n",
       "      <td>0</td>\n",
       "      <td>0</td>\n",
       "      <td>1</td>\n",
       "      <td>0</td>\n",
       "      <td>0</td>\n",
       "    </tr>\n",
       "    <tr>\n",
       "      <th>2568638</th>\n",
       "      <td>-0.614286</td>\n",
       "      <td>-0.304412</td>\n",
       "      <td>-0.210829</td>\n",
       "      <td>-0.193813</td>\n",
       "      <td>-1.034412</td>\n",
       "      <td>0.102929</td>\n",
       "      <td>True</td>\n",
       "      <td>16</td>\n",
       "      <td>17</td>\n",
       "      <td>1</td>\n",
       "      <td>...</td>\n",
       "      <td>0</td>\n",
       "      <td>0</td>\n",
       "      <td>0</td>\n",
       "      <td>0</td>\n",
       "      <td>0</td>\n",
       "      <td>0</td>\n",
       "      <td>0</td>\n",
       "      <td>0</td>\n",
       "      <td>0</td>\n",
       "      <td>0</td>\n",
       "    </tr>\n",
       "    <tr>\n",
       "      <th>1754462</th>\n",
       "      <td>-0.817612</td>\n",
       "      <td>-0.304412</td>\n",
       "      <td>-0.335532</td>\n",
       "      <td>-0.193813</td>\n",
       "      <td>1.535229</td>\n",
       "      <td>0.102929</td>\n",
       "      <td>True</td>\n",
       "      <td>10</td>\n",
       "      <td>11</td>\n",
       "      <td>0</td>\n",
       "      <td>...</td>\n",
       "      <td>0</td>\n",
       "      <td>0</td>\n",
       "      <td>0</td>\n",
       "      <td>0</td>\n",
       "      <td>0</td>\n",
       "      <td>1</td>\n",
       "      <td>0</td>\n",
       "      <td>0</td>\n",
       "      <td>0</td>\n",
       "      <td>0</td>\n",
       "    </tr>\n",
       "  </tbody>\n",
       "</table>\n",
       "<p>5 rows × 73 columns</p>\n",
       "</div>"
      ],
      "text/plain": [
       "         outgoing_duration  outgoing_stops  returning_duration  \\\n",
       "994517            0.037111       -0.304412           -0.705620   \n",
       "161919            2.138147       -0.304412            0.609800   \n",
       "1777727           2.288758       -0.304412            1.156886   \n",
       "2568638          -0.614286       -0.304412           -0.210829   \n",
       "1754462          -0.817612       -0.304412           -0.335532   \n",
       "\n",
       "         returning_stops   advance  length_of_stay  \\\n",
       "994517         -0.193813 -0.496580       -0.250765   \n",
       "161919          2.652447 -0.152965       -0.250765   \n",
       "1777727        -0.193813 -0.466700       -0.427612   \n",
       "2568638        -0.193813 -1.034412        0.102929   \n",
       "1754462        -0.193813  1.535229        0.102929   \n",
       "\n",
       "         includes_saturday_night_stay  departure_week  return_week  \\\n",
       "994517                           True              40           41   \n",
       "161919                          False               7            8   \n",
       "1777727                          True              47           48   \n",
       "2568638                          True              16           17   \n",
       "1754462                          True              10           11   \n",
       "\n",
       "         validating_carrier_AA  ...  return_month_December  \\\n",
       "994517                       0  ...                      0   \n",
       "161919                       0  ...                      0   \n",
       "1777727                      0  ...                      0   \n",
       "2568638                      1  ...                      0   \n",
       "1754462                      0  ...                      0   \n",
       "\n",
       "         return_month_February  return_month_January  return_month_July  \\\n",
       "994517                       0                     0                  0   \n",
       "161919                       1                     0                  0   \n",
       "1777727                      0                     0                  0   \n",
       "2568638                      0                     0                  0   \n",
       "1754462                      0                     0                  0   \n",
       "\n",
       "         return_month_June  return_month_March  return_month_May  \\\n",
       "994517                   0                   0                 0   \n",
       "161919                   0                   0                 0   \n",
       "1777727                  0                   0                 0   \n",
       "2568638                  0                   0                 0   \n",
       "1754462                  0                   1                 0   \n",
       "\n",
       "         return_month_November  return_month_October  return_month_September  \n",
       "994517                       0                     1                       0  \n",
       "161919                       0                     0                       0  \n",
       "1777727                      1                     0                       0  \n",
       "2568638                      0                     0                       0  \n",
       "1754462                      0                     0                       0  \n",
       "\n",
       "[5 rows x 73 columns]"
      ]
     },
     "execution_count": 12,
     "metadata": {},
     "output_type": "execute_result"
    }
   ],
   "source": [
    "\n",
    "Xt, y = preprocess_data(training_set, kept_features, categorical_features, continuous_features)\n",
    "Xt.head()"
   ]
  },
  {
   "cell_type": "code",
   "execution_count": 13,
   "metadata": {},
   "outputs": [
    {
     "data": {
      "text/plain": [
       "(1500000, 73)"
      ]
     },
     "execution_count": 13,
     "metadata": {},
     "output_type": "execute_result"
    }
   ],
   "source": [
    "Xt.shape"
   ]
  },
  {
   "cell_type": "code",
   "execution_count": 14,
   "metadata": {
    "scrolled": true
   },
   "outputs": [
    {
     "data": {
      "text/plain": [
       "(1500000,)"
      ]
     },
     "execution_count": 14,
     "metadata": {},
     "output_type": "execute_result"
    }
   ],
   "source": [
    "y.shape"
   ]
  },
  {
   "cell_type": "markdown",
   "metadata": {},
   "source": [
    "#### Creating training and testing sets"
   ]
  },
  {
   "cell_type": "code",
   "execution_count": 15,
   "metadata": {},
   "outputs": [],
   "source": [
    "\n",
    "X_train, X_test, y_train, y_test = train_test_split(\n",
    "    Xt, y, test_size=0.3, random_state=42)"
   ]
  },
  {
   "cell_type": "code",
   "execution_count": 16,
   "metadata": {},
   "outputs": [
    {
     "data": {
      "text/plain": [
       "(1050000, 73)"
      ]
     },
     "execution_count": 16,
     "metadata": {},
     "output_type": "execute_result"
    }
   ],
   "source": [
    "X_train.shape"
   ]
  },
  {
   "cell_type": "code",
   "execution_count": 17,
   "metadata": {},
   "outputs": [
    {
     "data": {
      "text/plain": [
       "(450000, 73)"
      ]
     },
     "execution_count": 17,
     "metadata": {},
     "output_type": "execute_result"
    }
   ],
   "source": [
    "X_test.shape"
   ]
  },
  {
   "cell_type": "markdown",
   "metadata": {},
   "source": [
    "### Cross Validation, Hyper-parameter tuning and Model Evaluation"
   ]
  },
  {
   "cell_type": "code",
   "execution_count": 18,
   "metadata": {},
   "outputs": [],
   "source": [
    "def print_accuracy_report(y_test, y_pred):\n",
    "     \n",
    "    print 'R Squared(Accuracy)', metrics.r2_score(y_test, y_pred)\n",
    "    print 'Mean Absolute Error:', metrics.mean_absolute_error(y_test, y_pred) \n",
    "    print 'Median Absolute Error:', metrics.median_absolute_error(y_test, y_pred)"
   ]
  },
  {
   "cell_type": "markdown",
   "metadata": {},
   "source": [
    "#### 1. Linear Regression"
   ]
  },
  {
   "cell_type": "code",
   "execution_count": 19,
   "metadata": {},
   "outputs": [
    {
     "name": "stdout",
     "output_type": "stream",
     "text": [
      "Fitting a model ... \n",
      "Done fitting\n",
      "Time taken:  5.51236104965 seconds\n",
      "\n",
      "Making predictions ...\n",
      "Time taken:  1.7591240406 seconds\n",
      "\n",
      "R Squared(Accuracy) 0.3808118916712415\n",
      "Mean Absolute Error: 155.94146067908866\n",
      "Median Absolute Error: 117.33091725357349\n"
     ]
    }
   ],
   "source": [
    "reg = LinearRegression()\n",
    "\n",
    "print 'Fitting a model ... '\n",
    "start = time()\n",
    "reg.fit(X_train,y_train)\n",
    "end = time()\n",
    "print 'Done fitting'\n",
    "print 'Time taken: ', (end-start), 'seconds'\n",
    "print ''\n",
    "\n",
    "start = time()\n",
    "y_pred = reg.predict(X_test)\n",
    "end = time()\n",
    "print 'Making predictions ...'\n",
    "print 'Time taken: ', (end-start), 'seconds'\n",
    "print ''\n",
    "\n",
    "print_accuracy_report(y_test, y_pred)"
   ]
  },
  {
   "cell_type": "markdown",
   "metadata": {},
   "source": [
    "#### 2. K Nearest Neighbors Regression"
   ]
  },
  {
   "cell_type": "code",
   "execution_count": 20,
   "metadata": {},
   "outputs": [
    {
     "name": "stdout",
     "output_type": "stream",
     "text": [
      "Fitting a model ... \n",
      "Done fitting\n",
      "Time taken:  325.456052065 seconds\n",
      "\n",
      "Making predictions ...\n",
      "Time taken:  118.806482077 seconds\n",
      "\n",
      "R Squared(Accuracy) 0.8799589027206391\n",
      "Mean Absolute Error: 52.792130688888896\n",
      "Median Absolute Error: 28.799999999999955\n"
     ]
    }
   ],
   "source": [
    "neigh = KNeighborsRegressor(n_neighbors=5, n_jobs=16)\n",
    "\n",
    "print 'Fitting a model ... '\n",
    "start = time()\n",
    "neigh.fit(X_train,y_train)\n",
    "end = time()\n",
    "print 'Done fitting'\n",
    "print 'Time taken: ', (end-start), 'seconds'\n",
    "print ''\n",
    "\n",
    "start = time()\n",
    "y_pred = neigh.predict(X_test)\n",
    "end = time()\n",
    "print 'Making predictions ...'\n",
    "print 'Time taken: ', (end-start), 'seconds'\n",
    "print ''\n",
    "\n",
    "print_accuracy_report(y_test, y_pred)"
   ]
  },
  {
   "cell_type": "markdown",
   "metadata": {},
   "source": [
    "#### 3. Gradient Boosted Regression"
   ]
  },
  {
   "cell_type": "code",
   "execution_count": 21,
   "metadata": {},
   "outputs": [],
   "source": [
    "\n",
    "gbr = GradientBoostingRegressor()"
   ]
  },
  {
   "cell_type": "code",
   "execution_count": 22,
   "metadata": {},
   "outputs": [
    {
     "name": "stdout",
     "output_type": "stream",
     "text": [
      "Fitting a model ... \n",
      "Done fitting\n",
      "Time taken:  239.321057796 seconds\n"
     ]
    }
   ],
   "source": [
    "print 'Fitting a model ... '\n",
    "start = time()\n",
    "gbr.fit(X_train,y_train)\n",
    "end = time()\n",
    "print 'Done fitting'\n",
    "print 'Time taken: ', (end-start), 'seconds'"
   ]
  },
  {
   "cell_type": "code",
   "execution_count": 23,
   "metadata": {},
   "outputs": [
    {
     "name": "stdout",
     "output_type": "stream",
     "text": [
      "Time taken:  2.73712301254 seconds\n"
     ]
    }
   ],
   "source": [
    "start = time()\n",
    "y_pred = gbr.predict(X_test)\n",
    "end = time()\n",
    "print 'Time taken: ', (end-start), 'seconds'"
   ]
  },
  {
   "cell_type": "code",
   "execution_count": 24,
   "metadata": {},
   "outputs": [
    {
     "name": "stdout",
     "output_type": "stream",
     "text": [
      "R Squared(Accuracy) 0.582802908340732\n",
      "Mean Absolute Error: 122.6966894897803\n",
      "Median Absolute Error: 88.27338112596789\n"
     ]
    }
   ],
   "source": [
    "print_accuracy_report(y_test, y_pred)"
   ]
  },
  {
   "cell_type": "markdown",
   "metadata": {},
   "source": [
    "#### 4. Random Forrest Regression"
   ]
  },
  {
   "cell_type": "code",
   "execution_count": 25,
   "metadata": {},
   "outputs": [],
   "source": [
    "\n",
    "rf = RandomForestRegressor()"
   ]
  },
  {
   "cell_type": "code",
   "execution_count": 26,
   "metadata": {},
   "outputs": [
    {
     "name": "stdout",
     "output_type": "stream",
     "text": [
      "Fitting a model ... \n",
      "Done fitting\n",
      "Time taken:  123.382567883 seconds\n"
     ]
    }
   ],
   "source": [
    "print 'Fitting a model ... '\n",
    "start = time()\n",
    "rf.fit(X_train,y_train)\n",
    "end = time()\n",
    "print 'Done fitting'\n",
    "print 'Time taken: ', (end-start), 'seconds'"
   ]
  },
  {
   "cell_type": "code",
   "execution_count": 27,
   "metadata": {},
   "outputs": [
    {
     "name": "stdout",
     "output_type": "stream",
     "text": [
      "Time taken:  4.42870497704 seconds\n"
     ]
    }
   ],
   "source": [
    "start = time()\n",
    "y_pred = rf.predict(X_test)\n",
    "end = time()\n",
    "print 'Time taken: ', (end-start), 'seconds'"
   ]
  },
  {
   "cell_type": "code",
   "execution_count": 28,
   "metadata": {},
   "outputs": [
    {
     "name": "stdout",
     "output_type": "stream",
     "text": [
      "R Squared(Accuracy) 0.9216408739237348\n",
      "Mean Absolute Error: 38.88411345324587\n",
      "Median Absolute Error: 18.450000000000102\n"
     ]
    }
   ],
   "source": [
    "print_accuracy_report(y_test, y_pred)"
   ]
  },
  {
   "cell_type": "markdown",
   "metadata": {},
   "source": [
    "####   Random Forrest Regressor works the best in this case."
   ]
  },
  {
   "cell_type": "code",
   "execution_count": 29,
   "metadata": {},
   "outputs": [
    {
     "data": {
      "text/plain": [
       "RandomForestRegressor(bootstrap=True, criterion='mse', max_depth=None,\n",
       "           max_features='auto', max_leaf_nodes=None,\n",
       "           min_impurity_decrease=0.0, min_impurity_split=None,\n",
       "           min_samples_leaf=1, min_samples_split=2,\n",
       "           min_weight_fraction_leaf=0.0, n_estimators=10, n_jobs=None,\n",
       "           oob_score=False, random_state=None, verbose=0, warm_start=False)"
      ]
     },
     "execution_count": 29,
     "metadata": {},
     "output_type": "execute_result"
    }
   ],
   "source": [
    "# Setting the best regressor for prediction\n",
    "model = rf\n",
    "model"
   ]
  },
  {
   "cell_type": "markdown",
   "metadata": {},
   "source": [
    "### Validation - Trying to predict flight price variations on held out set"
   ]
  },
  {
   "cell_type": "code",
   "execution_count": 30,
   "metadata": {},
   "outputs": [],
   "source": [
    "received_date = '2016-04-21'\n",
    "departure_date = '2016-06-02'\n",
    "return_date = '2016-06-06'"
   ]
  },
  {
   "cell_type": "code",
   "execution_count": 31,
   "metadata": {},
   "outputs": [
    {
     "data": {
      "text/html": [
       "<div>\n",
       "<style scoped>\n",
       "    .dataframe tbody tr th:only-of-type {\n",
       "        vertical-align: middle;\n",
       "    }\n",
       "\n",
       "    .dataframe tbody tr th {\n",
       "        vertical-align: top;\n",
       "    }\n",
       "\n",
       "    .dataframe thead th {\n",
       "        text-align: right;\n",
       "    }\n",
       "</style>\n",
       "<table border=\"1\" class=\"dataframe\">\n",
       "  <thead>\n",
       "    <tr style=\"text-align: right;\">\n",
       "      <th></th>\n",
       "      <th>search_id</th>\n",
       "      <th>trip_index</th>\n",
       "      <th>received_date</th>\n",
       "      <th>received_ms</th>\n",
       "      <th>origin</th>\n",
       "      <th>destination</th>\n",
       "      <th>total_usd</th>\n",
       "      <th>pax_type</th>\n",
       "      <th>refundable</th>\n",
       "      <th>validating_carrier</th>\n",
       "      <th>...</th>\n",
       "      <th>returning_duration</th>\n",
       "      <th>returning_stops</th>\n",
       "      <th>major_carrier_id</th>\n",
       "      <th>total_stops</th>\n",
       "      <th>advance</th>\n",
       "      <th>length_of_stay</th>\n",
       "      <th>includes_saturday_night_stay</th>\n",
       "      <th>available_seats</th>\n",
       "      <th>lowest_cabin_class</th>\n",
       "      <th>highest_cabin_class</th>\n",
       "    </tr>\n",
       "  </thead>\n",
       "  <tbody>\n",
       "    <tr>\n",
       "      <th>2578642</th>\n",
       "      <td>60273277-5e57-31eb-9797-a51b3b172cc5</td>\n",
       "      <td>77</td>\n",
       "      <td>2016-05-11</td>\n",
       "      <td>1462968193512</td>\n",
       "      <td>BOS</td>\n",
       "      <td>CUN</td>\n",
       "      <td>1159.58</td>\n",
       "      <td>ADT</td>\n",
       "      <td>NaN</td>\n",
       "      <td>AA</td>\n",
       "      <td>...</td>\n",
       "      <td>392</td>\n",
       "      <td>1</td>\n",
       "      <td>AA</td>\n",
       "      <td>2</td>\n",
       "      <td>0</td>\n",
       "      <td>3</td>\n",
       "      <td>False</td>\n",
       "      <td>1</td>\n",
       "      <td>E</td>\n",
       "      <td>F</td>\n",
       "    </tr>\n",
       "    <tr>\n",
       "      <th>2724221</th>\n",
       "      <td>3b3be749-a26b-3c1a-bc5b-ad3ea97caed7</td>\n",
       "      <td>16</td>\n",
       "      <td>2016-11-12</td>\n",
       "      <td>1478959442224</td>\n",
       "      <td>BOS</td>\n",
       "      <td>CUN</td>\n",
       "      <td>321.51</td>\n",
       "      <td>ADT</td>\n",
       "      <td>NaN</td>\n",
       "      <td>AA</td>\n",
       "      <td>...</td>\n",
       "      <td>1148</td>\n",
       "      <td>1</td>\n",
       "      <td>AA</td>\n",
       "      <td>2</td>\n",
       "      <td>0</td>\n",
       "      <td>5</td>\n",
       "      <td>True</td>\n",
       "      <td>9</td>\n",
       "      <td>E</td>\n",
       "      <td>E</td>\n",
       "    </tr>\n",
       "    <tr>\n",
       "      <th>950381</th>\n",
       "      <td>9771704e-10ff-332e-a22a-940cf72fa68b</td>\n",
       "      <td>32</td>\n",
       "      <td>2015-08-04</td>\n",
       "      <td>1438676360680</td>\n",
       "      <td>BOS</td>\n",
       "      <td>CUN</td>\n",
       "      <td>652.53</td>\n",
       "      <td>NaN</td>\n",
       "      <td>NaN</td>\n",
       "      <td>NaN</td>\n",
       "      <td>...</td>\n",
       "      <td>509</td>\n",
       "      <td>1</td>\n",
       "      <td>DL</td>\n",
       "      <td>2</td>\n",
       "      <td>0</td>\n",
       "      <td>7</td>\n",
       "      <td>True</td>\n",
       "      <td>3</td>\n",
       "      <td>E</td>\n",
       "      <td>E</td>\n",
       "    </tr>\n",
       "    <tr>\n",
       "      <th>914844</th>\n",
       "      <td>469d5241-4aec-3bc6-a2eb-47a0d74047fd</td>\n",
       "      <td>71</td>\n",
       "      <td>2016-01-06</td>\n",
       "      <td>1452086739853</td>\n",
       "      <td>BOS</td>\n",
       "      <td>CUN</td>\n",
       "      <td>736.79</td>\n",
       "      <td>ADT</td>\n",
       "      <td>NaN</td>\n",
       "      <td>DL</td>\n",
       "      <td>...</td>\n",
       "      <td>433</td>\n",
       "      <td>1</td>\n",
       "      <td>DL</td>\n",
       "      <td>2</td>\n",
       "      <td>0</td>\n",
       "      <td>5</td>\n",
       "      <td>True</td>\n",
       "      <td>9</td>\n",
       "      <td>E</td>\n",
       "      <td>E</td>\n",
       "    </tr>\n",
       "    <tr>\n",
       "      <th>2665271</th>\n",
       "      <td>bb9531fa-4b66-31f1-a9b1-680ec636f86d</td>\n",
       "      <td>57</td>\n",
       "      <td>2015-08-07</td>\n",
       "      <td>1438958582420</td>\n",
       "      <td>BOS</td>\n",
       "      <td>CUN</td>\n",
       "      <td>1463.68</td>\n",
       "      <td>NaN</td>\n",
       "      <td>NaN</td>\n",
       "      <td>NaN</td>\n",
       "      <td>...</td>\n",
       "      <td>756</td>\n",
       "      <td>1</td>\n",
       "      <td>DL</td>\n",
       "      <td>3</td>\n",
       "      <td>0</td>\n",
       "      <td>7</td>\n",
       "      <td>True</td>\n",
       "      <td>1</td>\n",
       "      <td>E</td>\n",
       "      <td>F</td>\n",
       "    </tr>\n",
       "  </tbody>\n",
       "</table>\n",
       "<p>5 rows × 26 columns</p>\n",
       "</div>"
      ],
      "text/plain": [
       "                                    search_id  trip_index received_date  \\\n",
       "2578642  60273277-5e57-31eb-9797-a51b3b172cc5          77    2016-05-11   \n",
       "2724221  3b3be749-a26b-3c1a-bc5b-ad3ea97caed7          16    2016-11-12   \n",
       "950381   9771704e-10ff-332e-a22a-940cf72fa68b          32    2015-08-04   \n",
       "914844   469d5241-4aec-3bc6-a2eb-47a0d74047fd          71    2016-01-06   \n",
       "2665271  bb9531fa-4b66-31f1-a9b1-680ec636f86d          57    2015-08-07   \n",
       "\n",
       "           received_ms origin destination  total_usd pax_type  refundable  \\\n",
       "2578642  1462968193512    BOS         CUN    1159.58      ADT         NaN   \n",
       "2724221  1478959442224    BOS         CUN     321.51      ADT         NaN   \n",
       "950381   1438676360680    BOS         CUN     652.53      NaN         NaN   \n",
       "914844   1452086739853    BOS         CUN     736.79      ADT         NaN   \n",
       "2665271  1438958582420    BOS         CUN    1463.68      NaN         NaN   \n",
       "\n",
       "        validating_carrier  ... returning_duration  returning_stops  \\\n",
       "2578642                 AA  ...                392                1   \n",
       "2724221                 AA  ...               1148                1   \n",
       "950381                 NaN  ...                509                1   \n",
       "914844                  DL  ...                433                1   \n",
       "2665271                NaN  ...                756                1   \n",
       "\n",
       "         major_carrier_id  total_stops advance  length_of_stay  \\\n",
       "2578642                AA            2       0               3   \n",
       "2724221                AA            2       0               5   \n",
       "950381                 DL            2       0               7   \n",
       "914844                 DL            2       0               5   \n",
       "2665271                DL            3       0               7   \n",
       "\n",
       "         includes_saturday_night_stay  available_seats lowest_cabin_class  \\\n",
       "2578642                         False                1                  E   \n",
       "2724221                          True                9                  E   \n",
       "950381                           True                3                  E   \n",
       "914844                           True                9                  E   \n",
       "2665271                          True                1                  E   \n",
       "\n",
       "         highest_cabin_class  \n",
       "2578642                    F  \n",
       "2724221                    E  \n",
       "950381                     E  \n",
       "914844                     E  \n",
       "2665271                    F  \n",
       "\n",
       "[5 rows x 26 columns]"
      ]
     },
     "execution_count": 31,
     "metadata": {},
     "output_type": "execute_result"
    }
   ],
   "source": [
    "test_df = held_out_set[(held_out_set['departure_odate'] == '2016-04-02') &\n",
    "               (held_out_set['return_odate'] == '2016-04-06') ]\n",
    "\n",
    "held_out_set.sort_values('advance').head()"
   ]
  },
  {
   "cell_type": "code",
   "execution_count": 32,
   "metadata": {},
   "outputs": [
    {
     "data": {
      "text/html": [
       "<div>\n",
       "<style scoped>\n",
       "    .dataframe tbody tr th:only-of-type {\n",
       "        vertical-align: middle;\n",
       "    }\n",
       "\n",
       "    .dataframe tbody tr th {\n",
       "        vertical-align: top;\n",
       "    }\n",
       "\n",
       "    .dataframe thead th {\n",
       "        text-align: right;\n",
       "    }\n",
       "</style>\n",
       "<table border=\"1\" class=\"dataframe\">\n",
       "  <thead>\n",
       "    <tr style=\"text-align: right;\">\n",
       "      <th></th>\n",
       "      <th>search_id</th>\n",
       "      <th>trip_index</th>\n",
       "      <th>received_date</th>\n",
       "      <th>received_ms</th>\n",
       "      <th>origin</th>\n",
       "      <th>destination</th>\n",
       "      <th>total_usd</th>\n",
       "      <th>pax_type</th>\n",
       "      <th>refundable</th>\n",
       "      <th>validating_carrier</th>\n",
       "      <th>...</th>\n",
       "      <th>returning_duration</th>\n",
       "      <th>returning_stops</th>\n",
       "      <th>major_carrier_id</th>\n",
       "      <th>total_stops</th>\n",
       "      <th>advance</th>\n",
       "      <th>length_of_stay</th>\n",
       "      <th>includes_saturday_night_stay</th>\n",
       "      <th>available_seats</th>\n",
       "      <th>lowest_cabin_class</th>\n",
       "      <th>highest_cabin_class</th>\n",
       "    </tr>\n",
       "  </thead>\n",
       "  <tbody>\n",
       "    <tr>\n",
       "      <th>754906</th>\n",
       "      <td>f3d8c5b9-4197-3b7f-9f0f-6a028c2515fb</td>\n",
       "      <td>20</td>\n",
       "      <td>2016-04-01</td>\n",
       "      <td>1459554516115</td>\n",
       "      <td>BOS</td>\n",
       "      <td>CUN</td>\n",
       "      <td>473.01</td>\n",
       "      <td>ADT</td>\n",
       "      <td>NaN</td>\n",
       "      <td>AC</td>\n",
       "      <td>...</td>\n",
       "      <td>1202</td>\n",
       "      <td>1</td>\n",
       "      <td>AC</td>\n",
       "      <td>2</td>\n",
       "      <td>1</td>\n",
       "      <td>4</td>\n",
       "      <td>True</td>\n",
       "      <td>1</td>\n",
       "      <td>E</td>\n",
       "      <td>E</td>\n",
       "    </tr>\n",
       "    <tr>\n",
       "      <th>32907</th>\n",
       "      <td>2fb0881d-098a-335d-9921-d091766138fd</td>\n",
       "      <td>1</td>\n",
       "      <td>2016-03-31</td>\n",
       "      <td>1459451977434</td>\n",
       "      <td>BOS</td>\n",
       "      <td>CUN</td>\n",
       "      <td>373.89</td>\n",
       "      <td>ADT</td>\n",
       "      <td>NaN</td>\n",
       "      <td>AC</td>\n",
       "      <td>...</td>\n",
       "      <td>762</td>\n",
       "      <td>1</td>\n",
       "      <td>AC</td>\n",
       "      <td>2</td>\n",
       "      <td>2</td>\n",
       "      <td>4</td>\n",
       "      <td>True</td>\n",
       "      <td>1</td>\n",
       "      <td>E</td>\n",
       "      <td>E</td>\n",
       "    </tr>\n",
       "    <tr>\n",
       "      <th>2959916</th>\n",
       "      <td>cd9b2fa8-ada8-3ca7-8b89-30adf975e310</td>\n",
       "      <td>12</td>\n",
       "      <td>2016-03-30</td>\n",
       "      <td>1459374618231</td>\n",
       "      <td>BOS</td>\n",
       "      <td>CUN</td>\n",
       "      <td>463.72</td>\n",
       "      <td>ADT</td>\n",
       "      <td>NaN</td>\n",
       "      <td>AC</td>\n",
       "      <td>...</td>\n",
       "      <td>1330</td>\n",
       "      <td>1</td>\n",
       "      <td>AC</td>\n",
       "      <td>2</td>\n",
       "      <td>3</td>\n",
       "      <td>4</td>\n",
       "      <td>True</td>\n",
       "      <td>1</td>\n",
       "      <td>E</td>\n",
       "      <td>E</td>\n",
       "    </tr>\n",
       "    <tr>\n",
       "      <th>2330348</th>\n",
       "      <td>f8f96c00-f8ee-38bc-8ea5-bb1f884eeeb6</td>\n",
       "      <td>9</td>\n",
       "      <td>2016-03-29</td>\n",
       "      <td>1459279068127</td>\n",
       "      <td>BOS</td>\n",
       "      <td>CUN</td>\n",
       "      <td>463.72</td>\n",
       "      <td>ADT</td>\n",
       "      <td>NaN</td>\n",
       "      <td>AC</td>\n",
       "      <td>...</td>\n",
       "      <td>1330</td>\n",
       "      <td>1</td>\n",
       "      <td>AC</td>\n",
       "      <td>2</td>\n",
       "      <td>4</td>\n",
       "      <td>4</td>\n",
       "      <td>True</td>\n",
       "      <td>1</td>\n",
       "      <td>E</td>\n",
       "      <td>E</td>\n",
       "    </tr>\n",
       "    <tr>\n",
       "      <th>1559085</th>\n",
       "      <td>615a07c5-3331-3419-bf0c-6578271c7c3a</td>\n",
       "      <td>1</td>\n",
       "      <td>2016-03-28</td>\n",
       "      <td>1459223666296</td>\n",
       "      <td>BOS</td>\n",
       "      <td>CUN</td>\n",
       "      <td>455.89</td>\n",
       "      <td>ADT</td>\n",
       "      <td>NaN</td>\n",
       "      <td>AC</td>\n",
       "      <td>...</td>\n",
       "      <td>630</td>\n",
       "      <td>1</td>\n",
       "      <td>AC</td>\n",
       "      <td>2</td>\n",
       "      <td>5</td>\n",
       "      <td>4</td>\n",
       "      <td>True</td>\n",
       "      <td>1</td>\n",
       "      <td>E</td>\n",
       "      <td>E</td>\n",
       "    </tr>\n",
       "  </tbody>\n",
       "</table>\n",
       "<p>5 rows × 26 columns</p>\n",
       "</div>"
      ],
      "text/plain": [
       "                                    search_id  trip_index received_date  \\\n",
       "754906   f3d8c5b9-4197-3b7f-9f0f-6a028c2515fb          20    2016-04-01   \n",
       "32907    2fb0881d-098a-335d-9921-d091766138fd           1    2016-03-31   \n",
       "2959916  cd9b2fa8-ada8-3ca7-8b89-30adf975e310          12    2016-03-30   \n",
       "2330348  f8f96c00-f8ee-38bc-8ea5-bb1f884eeeb6           9    2016-03-29   \n",
       "1559085  615a07c5-3331-3419-bf0c-6578271c7c3a           1    2016-03-28   \n",
       "\n",
       "           received_ms origin destination  total_usd pax_type  refundable  \\\n",
       "754906   1459554516115    BOS         CUN     473.01      ADT         NaN   \n",
       "32907    1459451977434    BOS         CUN     373.89      ADT         NaN   \n",
       "2959916  1459374618231    BOS         CUN     463.72      ADT         NaN   \n",
       "2330348  1459279068127    BOS         CUN     463.72      ADT         NaN   \n",
       "1559085  1459223666296    BOS         CUN     455.89      ADT         NaN   \n",
       "\n",
       "        validating_carrier  ... returning_duration  returning_stops  \\\n",
       "754906                  AC  ...               1202                1   \n",
       "32907                   AC  ...                762                1   \n",
       "2959916                 AC  ...               1330                1   \n",
       "2330348                 AC  ...               1330                1   \n",
       "1559085                 AC  ...                630                1   \n",
       "\n",
       "         major_carrier_id  total_stops advance  length_of_stay  \\\n",
       "754906                 AC            2       1               4   \n",
       "32907                  AC            2       2               4   \n",
       "2959916                AC            2       3               4   \n",
       "2330348                AC            2       4               4   \n",
       "1559085                AC            2       5               4   \n",
       "\n",
       "         includes_saturday_night_stay  available_seats lowest_cabin_class  \\\n",
       "754906                           True                1                  E   \n",
       "32907                            True                1                  E   \n",
       "2959916                          True                1                  E   \n",
       "2330348                          True                1                  E   \n",
       "1559085                          True                1                  E   \n",
       "\n",
       "         highest_cabin_class  \n",
       "754906                     E  \n",
       "32907                      E  \n",
       "2959916                    E  \n",
       "2330348                    E  \n",
       "1559085                    E  \n",
       "\n",
       "[5 rows x 26 columns]"
      ]
     },
     "execution_count": 32,
     "metadata": {},
     "output_type": "execute_result"
    }
   ],
   "source": [
    "sample_df = test_df.loc[test_df.groupby('advance')['total_usd'].idxmin()]\n",
    "sample_df.head()"
   ]
  },
  {
   "cell_type": "code",
   "execution_count": 33,
   "metadata": {},
   "outputs": [
    {
     "data": {
      "text/plain": [
       "(44, 26)"
      ]
     },
     "execution_count": 33,
     "metadata": {},
     "output_type": "execute_result"
    }
   ],
   "source": [
    "sample_df.shape"
   ]
  },
  {
   "cell_type": "code",
   "execution_count": 34,
   "metadata": {},
   "outputs": [],
   "source": [
    "test_df_prices = list(sample_df['total_usd'])\n",
    "days_remaining = list(sample_df['advance'])\n"
   ]
  },
  {
   "cell_type": "code",
   "execution_count": 35,
   "metadata": {},
   "outputs": [],
   "source": [
    "\n",
    "def smoothen_and_plot_curve(x, y, title='Actual variation', days_before_departure=30):\n",
    "    \n",
    "    xnew = np.linspace(min(x),max(x),300) \n",
    "    power_smooth = spline(x,y,xnew)\n",
    "    plt.plot(xnew,power_smooth)\n",
    "    plt.ylabel('Ticket price $')\n",
    "    plt.xlabel('Days before departure')\n",
    "    plt.axvline(x=days_before_departure, color='red')\n",
    "    plt.title(title)\n",
    "    plt.show()"
   ]
  },
  {
   "cell_type": "markdown",
   "metadata": {},
   "source": [
    "#### Predicted ticket price fluctuation"
   ]
  },
  {
   "cell_type": "code",
   "execution_count": 36,
   "metadata": {},
   "outputs": [],
   "source": [
    "xt = preprocess_data(sample_df, kept_features, categorical_features, continuous_features)[0]\n",
    "for col in X_test.columns:\n",
    "    if col not in xt.columns:\n",
    "        xt[col] = 0\n",
    "        \n",
    "predicted_prices = model.predict(xt)\n"
   ]
  },
  {
   "cell_type": "code",
   "execution_count": 37,
   "metadata": {},
   "outputs": [
    {
     "data": {
      "image/png": "[encoded data removed]",
      "text/plain": [
       "<Figure size 432x288 with 1 Axes>"
      ]
     },
     "metadata": {
      "needs_background": "light"
     },
     "output_type": "display_data"
    },
    {
     "data": {
      "image/png": "[encoded data removed]",
      "text/plain": [
       "<Figure size 432x288 with 1 Axes>"
      ]
     },
     "metadata": {
      "needs_background": "light"
     },
     "output_type": "display_data"
    }
   ],
   "source": [
    "days_before_departure = (pd.to_datetime(departure_date, format = '%Y/%m/%d')-\n",
    "                             pd.to_datetime(received_date, format = '%Y/%m/%d')).days\n",
    "\n",
    "smoothen_and_plot_curve(x = days_remaining,  y = predicted_prices, title='Predicted Variation', \n",
    "                        days_before_departure=days_before_departure)\n",
    "smoothen_and_plot_curve(x=days_remaining, y =test_df_prices, title='Actual Variation', \n",
    "                        days_before_departure=days_before_departure)"
   ]
  },
  {
   "cell_type": "markdown",
   "metadata": {},
   "source": [
    "## Part 2: Recommend whether to buy now or later"
   ]
  },
  {
   "cell_type": "markdown",
   "metadata": {},
   "source": [
    "#### General references: \n",
    "1. https://www.cheapair.com/blog/2018-airfare-study-the-best-time-to-buy-flights-based-on-917-million-airfares/?fbclid=IwAR17vGQXTBHdRaJRSQos7pnhd_p6lX4vxJ75XmLw_VT32wV28TB11k_rYKk\n",
    "\n",
    "#### Medium articles and research papers\n",
    "\n",
    "2. https://medium.com/@neal_lathia/reading-the-machine-learning-behind-farecast-ca67cbd48665\n",
    "3. https://www.isi.edu/integration/papers/etzioni03-kdd.pdf\n",
    "\n",
    "#### Google flights:\n",
    "\n",
    "4. https://blog.google/products/flights-hotels/making-travel-planning-less-stressful-holiday-season/\n",
    "5. https://venturebeat.com/2019/08/08/google-brings-airfare-insights-and-travel-recommendations-to-trips/\n",
    "\n",
    "#### Kayak:\n",
    "\n",
    "6. https://www.kayak.com/price-trend-explanation"
   ]
  },
  {
   "cell_type": "markdown",
   "metadata": {},
   "source": [
    "#### Function to generate data given a departure date, return date and recieved date"
   ]
  },
  {
   "cell_type": "code",
   "execution_count": 38,
   "metadata": {},
   "outputs": [],
   "source": [
    "\n",
    "imp = SimpleImputer(missing_values='NaN', strategy='most_frequent')\n",
    "\n",
    "def most_frequent(List): \n",
    "    occurence_count = Counter(List) \n",
    "    return occurence_count.most_common(1)[0][0] \n",
    "\n",
    "def create_input_data(origin='BOS' , destination='CUN', departure_odate='' , \n",
    "                      return_odate='' ,received_date=''):\n",
    "    \n",
    "    data = pd.read_csv('boscun-longitudinal.csv')\n",
    "    input_data = data.head(1)\n",
    "\n",
    "    for c in input_data.columns:\n",
    "    \n",
    "        if c == 'received_date':\n",
    "            input_data[c][0] = received_date\n",
    "        elif c == 'departure_odate':\n",
    "            input_data[c][0] = departure_odate\n",
    "        elif c == 'return_odate':\n",
    "            input_data[c][0] = return_odate\n",
    "        elif c == 'advance':\n",
    "            advance = (pd.to_datetime(departure_odate, format = '%Y/%m/%d')-\n",
    "                                 pd.to_datetime(received_date, format = '%Y/%m/%d')).days\n",
    "            input_data[c][0] = advance\n",
    "        elif c in ['search_id', 'origin', 'destination', 'received_ms', 'return_ms', 'pax_type']:\n",
    "            continue\n",
    "        elif c in categorical_features:\n",
    "            input_data[c][0] = most_frequent(data[c])\n",
    "        elif c in continuous_features:\n",
    "            input_data[c][0] = np.mean(list(data[c]))\n",
    "        \n",
    "    input_data = input_data.append([input_data]*advance,ignore_index=True)\n",
    "    input_data['advance'] = range(advance+1, 0, -1)\n",
    "    input_data['received_date'] = input_data        \n",
    "    return input_data"
   ]
  },
  {
   "cell_type": "code",
   "execution_count": 39,
   "metadata": {
    "scrolled": true
   },
   "outputs": [
    {
     "data": {
      "text/html": [
       "<div>\n",
       "<style scoped>\n",
       "    .dataframe tbody tr th:only-of-type {\n",
       "        vertical-align: middle;\n",
       "    }\n",
       "\n",
       "    .dataframe tbody tr th {\n",
       "        vertical-align: top;\n",
       "    }\n",
       "\n",
       "    .dataframe thead th {\n",
       "        text-align: right;\n",
       "    }\n",
       "</style>\n",
       "<table border=\"1\" class=\"dataframe\">\n",
       "  <thead>\n",
       "    <tr style=\"text-align: right;\">\n",
       "      <th></th>\n",
       "      <th>search_id</th>\n",
       "      <th>trip_index</th>\n",
       "      <th>received_date</th>\n",
       "      <th>received_ms</th>\n",
       "      <th>origin</th>\n",
       "      <th>destination</th>\n",
       "      <th>total_usd</th>\n",
       "      <th>pax_type</th>\n",
       "      <th>refundable</th>\n",
       "      <th>validating_carrier</th>\n",
       "      <th>...</th>\n",
       "      <th>returning_duration</th>\n",
       "      <th>returning_stops</th>\n",
       "      <th>major_carrier_id</th>\n",
       "      <th>total_stops</th>\n",
       "      <th>advance</th>\n",
       "      <th>length_of_stay</th>\n",
       "      <th>includes_saturday_night_stay</th>\n",
       "      <th>available_seats</th>\n",
       "      <th>lowest_cabin_class</th>\n",
       "      <th>highest_cabin_class</th>\n",
       "    </tr>\n",
       "  </thead>\n",
       "  <tbody>\n",
       "    <tr>\n",
       "      <th>0</th>\n",
       "      <td>f079363a-b281-3476-b13e-d96ba6a8ad8a</td>\n",
       "      <td>11</td>\n",
       "      <td>f079363a-b281-3476-b13e-d96ba6a8ad8a</td>\n",
       "      <td>1461268013357</td>\n",
       "      <td>BOS</td>\n",
       "      <td>CUN</td>\n",
       "      <td>397.0</td>\n",
       "      <td>ADT</td>\n",
       "      <td>NaN</td>\n",
       "      <td>UA</td>\n",
       "      <td>...</td>\n",
       "      <td>617</td>\n",
       "      <td>1</td>\n",
       "      <td>UA</td>\n",
       "      <td>2</td>\n",
       "      <td>25</td>\n",
       "      <td>6</td>\n",
       "      <td>True</td>\n",
       "      <td>8</td>\n",
       "      <td>E</td>\n",
       "      <td>E</td>\n",
       "    </tr>\n",
       "    <tr>\n",
       "      <th>1</th>\n",
       "      <td>f079363a-b281-3476-b13e-d96ba6a8ad8a</td>\n",
       "      <td>11</td>\n",
       "      <td>f079363a-b281-3476-b13e-d96ba6a8ad8a</td>\n",
       "      <td>1461268013357</td>\n",
       "      <td>BOS</td>\n",
       "      <td>CUN</td>\n",
       "      <td>397.0</td>\n",
       "      <td>ADT</td>\n",
       "      <td>NaN</td>\n",
       "      <td>UA</td>\n",
       "      <td>...</td>\n",
       "      <td>617</td>\n",
       "      <td>1</td>\n",
       "      <td>UA</td>\n",
       "      <td>2</td>\n",
       "      <td>24</td>\n",
       "      <td>6</td>\n",
       "      <td>True</td>\n",
       "      <td>8</td>\n",
       "      <td>E</td>\n",
       "      <td>E</td>\n",
       "    </tr>\n",
       "    <tr>\n",
       "      <th>2</th>\n",
       "      <td>f079363a-b281-3476-b13e-d96ba6a8ad8a</td>\n",
       "      <td>11</td>\n",
       "      <td>f079363a-b281-3476-b13e-d96ba6a8ad8a</td>\n",
       "      <td>1461268013357</td>\n",
       "      <td>BOS</td>\n",
       "      <td>CUN</td>\n",
       "      <td>397.0</td>\n",
       "      <td>ADT</td>\n",
       "      <td>NaN</td>\n",
       "      <td>UA</td>\n",
       "      <td>...</td>\n",
       "      <td>617</td>\n",
       "      <td>1</td>\n",
       "      <td>UA</td>\n",
       "      <td>2</td>\n",
       "      <td>23</td>\n",
       "      <td>6</td>\n",
       "      <td>True</td>\n",
       "      <td>8</td>\n",
       "      <td>E</td>\n",
       "      <td>E</td>\n",
       "    </tr>\n",
       "    <tr>\n",
       "      <th>3</th>\n",
       "      <td>f079363a-b281-3476-b13e-d96ba6a8ad8a</td>\n",
       "      <td>11</td>\n",
       "      <td>f079363a-b281-3476-b13e-d96ba6a8ad8a</td>\n",
       "      <td>1461268013357</td>\n",
       "      <td>BOS</td>\n",
       "      <td>CUN</td>\n",
       "      <td>397.0</td>\n",
       "      <td>ADT</td>\n",
       "      <td>NaN</td>\n",
       "      <td>UA</td>\n",
       "      <td>...</td>\n",
       "      <td>617</td>\n",
       "      <td>1</td>\n",
       "      <td>UA</td>\n",
       "      <td>2</td>\n",
       "      <td>22</td>\n",
       "      <td>6</td>\n",
       "      <td>True</td>\n",
       "      <td>8</td>\n",
       "      <td>E</td>\n",
       "      <td>E</td>\n",
       "    </tr>\n",
       "    <tr>\n",
       "      <th>4</th>\n",
       "      <td>f079363a-b281-3476-b13e-d96ba6a8ad8a</td>\n",
       "      <td>11</td>\n",
       "      <td>f079363a-b281-3476-b13e-d96ba6a8ad8a</td>\n",
       "      <td>1461268013357</td>\n",
       "      <td>BOS</td>\n",
       "      <td>CUN</td>\n",
       "      <td>397.0</td>\n",
       "      <td>ADT</td>\n",
       "      <td>NaN</td>\n",
       "      <td>UA</td>\n",
       "      <td>...</td>\n",
       "      <td>617</td>\n",
       "      <td>1</td>\n",
       "      <td>UA</td>\n",
       "      <td>2</td>\n",
       "      <td>21</td>\n",
       "      <td>6</td>\n",
       "      <td>True</td>\n",
       "      <td>8</td>\n",
       "      <td>E</td>\n",
       "      <td>E</td>\n",
       "    </tr>\n",
       "  </tbody>\n",
       "</table>\n",
       "<p>5 rows × 26 columns</p>\n",
       "</div>"
      ],
      "text/plain": [
       "                              search_id  trip_index  \\\n",
       "0  f079363a-b281-3476-b13e-d96ba6a8ad8a          11   \n",
       "1  f079363a-b281-3476-b13e-d96ba6a8ad8a          11   \n",
       "2  f079363a-b281-3476-b13e-d96ba6a8ad8a          11   \n",
       "3  f079363a-b281-3476-b13e-d96ba6a8ad8a          11   \n",
       "4  f079363a-b281-3476-b13e-d96ba6a8ad8a          11   \n",
       "\n",
       "                          received_date    received_ms origin destination  \\\n",
       "0  f079363a-b281-3476-b13e-d96ba6a8ad8a  1461268013357    BOS         CUN   \n",
       "1  f079363a-b281-3476-b13e-d96ba6a8ad8a  1461268013357    BOS         CUN   \n",
       "2  f079363a-b281-3476-b13e-d96ba6a8ad8a  1461268013357    BOS         CUN   \n",
       "3  f079363a-b281-3476-b13e-d96ba6a8ad8a  1461268013357    BOS         CUN   \n",
       "4  f079363a-b281-3476-b13e-d96ba6a8ad8a  1461268013357    BOS         CUN   \n",
       "\n",
       "   total_usd pax_type  refundable validating_carrier  ... returning_duration  \\\n",
       "0      397.0      ADT         NaN                 UA  ...                617   \n",
       "1      397.0      ADT         NaN                 UA  ...                617   \n",
       "2      397.0      ADT         NaN                 UA  ...                617   \n",
       "3      397.0      ADT         NaN                 UA  ...                617   \n",
       "4      397.0      ADT         NaN                 UA  ...                617   \n",
       "\n",
       "   returning_stops  major_carrier_id  total_stops advance  length_of_stay  \\\n",
       "0                1                UA            2      25               6   \n",
       "1                1                UA            2      24               6   \n",
       "2                1                UA            2      23               6   \n",
       "3                1                UA            2      22               6   \n",
       "4                1                UA            2      21               6   \n",
       "\n",
       "   includes_saturday_night_stay  available_seats lowest_cabin_class  \\\n",
       "0                          True                8                  E   \n",
       "1                          True                8                  E   \n",
       "2                          True                8                  E   \n",
       "3                          True                8                  E   \n",
       "4                          True                8                  E   \n",
       "\n",
       "   highest_cabin_class  \n",
       "0                    E  \n",
       "1                    E  \n",
       "2                    E  \n",
       "3                    E  \n",
       "4                    E  \n",
       "\n",
       "[5 rows x 26 columns]"
      ]
     },
     "execution_count": 39,
     "metadata": {},
     "output_type": "execute_result"
    }
   ],
   "source": [
    "# Testing\n",
    "\n",
    "input_data = create_input_data(origin='BOS' , destination='CUN', \n",
    "                  departure_odate='2020/1/1', return_odate='2020/1/4', \n",
    "                  received_date='2019/12/8')\n",
    "input_data.head()"
   ]
  },
  {
   "cell_type": "code",
   "execution_count": 40,
   "metadata": {},
   "outputs": [],
   "source": [
    "\n",
    "def should_you_buy_the_ticket(origin='BOS', destination='CUN', \n",
    "                              departure_date='2020/1/1', return_date='2020/1/4', \n",
    "                              received_date='2019/12/8', data=data):\n",
    "    \n",
    "    \n",
    "    \n",
    "    print 'Generating data ...'\n",
    "    test_df = create_input_data(origin='BOS' , destination='CUN', departure_odate=departure_date , \n",
    "                      return_odate=return_date ,received_date=received_date)\n",
    "    \n",
    "    test_df = test_df.sort_values('advance')\n",
    "    sample_df = test_df.loc[test_df.groupby('advance')['total_usd'].idxmin()]\n",
    "    \n",
    "    actual_prices = list(sample_df['total_usd'])\n",
    "    days_remaining = list(sample_df['advance'])\n",
    "    \n",
    "    xt = preprocess_data(sample_df, kept_features, categorical_features, continuous_features)[0]\n",
    "    for col in X_test.columns:\n",
    "        if col not in xt.columns:\n",
    "            xt[col] = 0\n",
    "\n",
    "    predicted_prices = model.predict(xt)\n",
    "    days_before_departure = (pd.to_datetime(departure_date, format = '%Y/%m/%d')-\n",
    "                             pd.to_datetime(received_date, format = '%Y/%m/%d')).days\n",
    "    print ''\n",
    "    print 'Days before flight departure: ', days_before_departure\n",
    "    print ''\n",
    "    smoothen_and_plot_curve(x = days_remaining,  y = predicted_prices, title='Predicted Variation',\n",
    "                           days_before_departure=days_before_departure)\n",
    "    \n",
    "    sample_df['predicted_price'] = predicted_prices\n",
    "    current_minimum_price = sample_df[sample_df['advance'] == days_before_departure]['predicted_price'].min()\n",
    "    print 'Current Minimum price is: ', current_minimum_price\n",
    "    minimum_predicted_price = min(predicted_prices)\n",
    "    print 'Predicted Minimum price is: ', minimum_predicted_price\n",
    "    print ''\n",
    "    # Say 'Buy' or 'Wait'\n",
    "    if current_minimum_price <= minimum_predicted_price:\n",
    "        print 'Hopper Recommendation: BUY'\n",
    "    else:\n",
    "        print 'Hopper Recommendation: WAIT'\n",
    "    \n",
    "    "
   ]
  },
  {
   "cell_type": "code",
   "execution_count": 41,
   "metadata": {},
   "outputs": [
    {
     "name": "stdout",
     "output_type": "stream",
     "text": [
      "Generating data ...\n",
      "\n",
      "Days before flight departure:  90\n",
      "\n"
     ]
    },
    {
     "data": {
      "image/png": "[encoded data removed]",
      "text/plain": [
       "<Figure size 432x288 with 1 Axes>"
      ]
     },
     "metadata": {
      "needs_background": "light"
     },
     "output_type": "display_data"
    },
    {
     "name": "stdout",
     "output_type": "stream",
     "text": [
      "Current Minimum price is:  473.895\n",
      "Predicted Minimum price is:  418.637\n",
      "\n",
      "Hopper Recommendation: WAIT\n"
     ]
    }
   ],
   "source": [
    "should_you_buy_the_ticket(origin='BOS', destination='CUN', \n",
    "                              departure_date='2019-03-10', return_date='2019-03-14', received_date='2018-12-10')"
   ]
  }
 ],
 "metadata": {
  "kernelspec": {
   "display_name": "Python 2",
   "language": "python",
   "name": "python2"
  },
  "language_info": {
   "codemirror_mode": {
    "name": "ipython",
    "version": 2
   },
   "file_extension": ".py",
   "mimetype": "text/x-python",
   "name": "python",
   "nbconvert_exporter": "python",
   "pygments_lexer": "ipython2",
   "version": "2.7.16"
  }
 },
 "nbformat": 4,
 "nbformat_minor": 2
}
